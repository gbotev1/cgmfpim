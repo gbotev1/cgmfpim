{
  "nbformat": 4,
  "nbformat_minor": 0,
  "metadata": {
    "colab": {
      "name": "Model Testing",
      "provenance": [],
      "collapsed_sections": []
    },
    "kernelspec": {
      "name": "python3",
      "display_name": "Python 3"
    }
  },
  "cells": [
    {
      "cell_type": "markdown",
      "metadata": {
        "id": "JWSEEcVJSCjt"
      },
      "source": [
        "To start, upload:\n",
        "- `.tsv.tar.bz2` file containing data from most recent scrape\n",
        "- `data.py`\n",
        "- `model.py`\n",
        "- `requirements.txt`"
      ]
    },
    {
      "cell_type": "code",
      "metadata": {
        "colab": {
          "base_uri": "https://localhost:8080/"
        },
        "id": "KCBJsnB6A4Ft",
        "outputId": "2c0c79b7-d161-41dc-dc3b-fecf3d987669"
      },
      "source": [
        "!mkdir data/\n",
        "!tar -xjvf /content/11-25-20_21-1500.tsv.tar.bz2 -C data/"
      ],
      "execution_count": null,
      "outputs": [
        {
          "output_type": "stream",
          "text": [
            "./data.tsv\n"
          ],
          "name": "stdout"
        }
      ]
    },
    {
      "cell_type": "code",
      "metadata": {
        "id": "LBuV0pbSCeJN"
      },
      "source": [
        "!pip3 install -r requirements.txt"
      ],
      "execution_count": null,
      "outputs": []
    },
    {
      "cell_type": "code",
      "metadata": {
        "id": "34SeAGXwBRsR"
      },
      "source": [
        "import data"
      ],
      "execution_count": 1,
      "outputs": []
    },
    {
      "cell_type": "code",
      "metadata": {
        "id": "CfCw_drYyPhy"
      },
      "source": [
        "dataset = data.MemesDataModule()\n",
        "# dataset.prepare_data() # this generates a pickle\n",
        "dataset.setup() # generates dataloaders"
      ],
      "execution_count": 2,
      "outputs": []
    },
    {
      "cell_type": "code",
      "metadata": {
        "id": "ZigU4FekUEe0"
      },
      "source": [
        "train_dl = dataset.train_dataloader()\n",
        "val_dl = dataset.val_dataloader()\n",
        "test_dl = dataset.test_dataloader()"
      ],
      "execution_count": 3,
      "outputs": []
    },
    {
      "cell_type": "code",
      "metadata": {
        "id": "sI5Wwn7rtC0C"
      },
      "source": [
        "from model import GPT2"
      ],
      "execution_count": 4,
      "outputs": []
    },
    {
      "cell_type": "code",
      "metadata": {
        "id": "poak-6rhDkTo",
        "colab": {
          "base_uri": "https://localhost:8080/"
        },
        "outputId": "740d53ed-2d10-416d-8ad5-6871e2bd8f79"
      },
      "source": [
        "GPT2_model = GPT2(0.02, 1, 1)"
      ],
      "execution_count": 5,
      "outputs": [
        {
          "output_type": "stream",
          "text": [
            "Some weights of GPT2DoubleHeadsModel were not initialized from the model checkpoint at gpt2 and are newly initialized: ['h.0.attn.masked_bias', 'h.1.attn.masked_bias', 'h.2.attn.masked_bias', 'h.3.attn.masked_bias', 'h.4.attn.masked_bias', 'h.5.attn.masked_bias', 'h.6.attn.masked_bias', 'h.7.attn.masked_bias', 'h.8.attn.masked_bias', 'h.9.attn.masked_bias', 'h.10.attn.masked_bias', 'h.11.attn.masked_bias', 'lm_head.weight', 'multiple_choice_head.summary.bias', 'multiple_choice_head.summary.weight']\n",
            "You should probably TRAIN this model on a down-stream task to be able to use it for predictions and inference.\n"
          ],
          "name": "stderr"
        }
      ]
    },
    {
      "cell_type": "code",
      "metadata": {
        "colab": {
          "base_uri": "https://localhost:8080/"
        },
        "id": "VAyqZBtOPWg2",
        "outputId": "b4868a4d-1a77-4bbe-aa83-6e052ea5a651"
      },
      "source": [
        "GPT2_model.configure_optimizers()"
      ],
      "execution_count": 6,
      "outputs": [
        {
          "output_type": "execute_result",
          "data": {
            "text/plain": [
              "([AdamW (\n",
              "  Parameter Group 0\n",
              "      amsgrad: False\n",
              "      betas: (0.9, 0.999)\n",
              "      eps: 1e-08\n",
              "      initial_lr: 0.02\n",
              "      lr: 0.0\n",
              "      weight_decay: 0.0\n",
              "  )], [<torch.optim.lr_scheduler.LambdaLR at 0x7f2d507894e0>])"
            ]
          },
          "metadata": {
            "tags": []
          },
          "execution_count": 6
        }
      ]
    }
  ]
}