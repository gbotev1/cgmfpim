{
  "nbformat": 4,
  "nbformat_minor": 0,
  "metadata": {
    "colab": {
      "name": "wide_resnet101_2.ipynb",
      "provenance": [],
      "collapsed_sections": [],
      "toc_visible": true,
      "machine_shape": "hm"
    },
    "kernelspec": {
      "name": "python3",
      "display_name": "Python 3"
    },
    "accelerator": "GPU"
  },
  "cells": [
    {
      "cell_type": "code",
      "metadata": {
        "id": "8ocl9Mfl8LH6"
      },
      "source": [
        "## Some general imports we may need:\n",
        "import numpy as np\n",
        "import torch\n",
        "import torch.nn as nn\n",
        "import torchvision\n",
        "import torchvision.datasets as dataset\n",
        "import torchvision.transforms as transforms\n",
        "import matplotlib.pyplot as plt\n",
        "import time\n",
        "import struct\n",
        "import os\n",
        "import torchvision.models as models \n",
        "\n",
        "from google.colab import files\n",
        "from torch.utils.data.sampler import SubsetRandomSampler"
      ],
      "execution_count": 1,
      "outputs": []
    },
    {
      "cell_type": "code",
      "metadata": {
        "id": "rFFtp9BmLxo9"
      },
      "source": [
        "## Check GPU availability:\n",
        "gpu_boole = torch.cuda.is_available()"
      ],
      "execution_count": 2,
      "outputs": []
    },
    {
      "cell_type": "markdown",
      "metadata": {
        "id": "G5u9uAJZKVNB"
      },
      "source": [
        "**Defining dataset loaders:** here, we define the dataset loaders with a specific batch size of 128 and basic tensor transformation / preprocessing:\n",
        "\n"
      ]
    },
    {
      "cell_type": "code",
      "metadata": {
        "id": "cHSq5YEyK452",
        "colab": {
          "resources": {
            "http://localhost:8080/nbextensions/google.colab/files.js": {
              "data": "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",
              "ok": true,
              "headers": [
                [
                  "content-type",
                  "application/javascript"
                ]
              ],
              "status": 200,
              "status_text": ""
            }
          },
          "base_uri": "https://localhost:8080/",
          "height": 73
        },
        "outputId": "6e3b6a33-d420-4436-df77-c2f6928af485"
      },
      "source": [
        "## Upload meme templates\n",
        "files.upload() # meme_templates.tar.bz2\n",
        "!tar -xf meme_templates.tar.bz2\n",
        "data_dir = './meme_templates'\n",
        "\n",
        "# make subfolder with class labels\n",
        "data = os.listdir(data_dir)\n",
        "num_data = len(data)  # 786 meme templates\n",
        "for i in range(num_data):\n",
        "    if not os.path.exists(data_dir+'/'+str(i)):\n",
        "        os.mkdir(data_dir+'/'+str(i))\n",
        "        os.rename(data_dir+'/'+data[i], data_dir+'/'+str(i)+'/'+data[i])\n",
        "\n",
        "transform = transforms.Compose([transforms.Resize((299, 299)), transforms.ToTensor(), ])\n",
        "data = dataset.ImageFolder(data_dir, transform=transform)\n",
        "\n",
        "# shuffle train/valid/test\n",
        "indices = list(range(num_data))\n",
        "np.random.shuffle(indices)\n",
        "\n",
        "# split into 0.7 test, 0.15 valid, 0.15 test\n",
        "valid_split = int(np.floor(0.15 * num_data))\n",
        "test_split = int(np.floor(0.15 * num_data))\n",
        "train_idx, valid_idx, test_idx = indices[valid_split+test_split:], \\\n",
        "    indices[test_split:valid_split+test_split], \\\n",
        "    indices[:test_split]\n",
        "train_sampler = SubsetRandomSampler(train_idx)\n",
        "valid_sampler = SubsetRandomSampler(valid_idx)\n",
        "test_sampler = SubsetRandomSampler(test_idx)\n",
        "\n",
        "# load\n",
        "train_loader = torch.utils.data.DataLoader(data, sampler=train_sampler, batch_size=64)\n",
        "valid_loader = torch.utils.data.DataLoader(data, sampler=valid_sampler, batch_size=64)\n",
        "test_loader = torch.utils.data.DataLoader(data, sampler=test_sampler, batch_size=64)"
      ],
      "execution_count": 4,
      "outputs": [
        {
          "output_type": "display_data",
          "data": {
            "text/html": [
              "\n",
              "     <input type=\"file\" id=\"files-e09e1779-ab63-4604-b3ee-4b6f5c120df8\" name=\"files[]\" multiple disabled\n",
              "        style=\"border:none\" />\n",
              "     <output id=\"result-e09e1779-ab63-4604-b3ee-4b6f5c120df8\">\n",
              "      Upload widget is only available when the cell has been executed in the\n",
              "      current browser session. Please rerun this cell to enable.\n",
              "      </output>\n",
              "      <script src=\"/nbextensions/google.colab/files.js\"></script> "
            ],
            "text/plain": [
              "<IPython.core.display.HTML object>"
            ]
          },
          "metadata": {
            "tags": []
          }
        },
        {
          "output_type": "stream",
          "text": [
            "Saving meme_templates.tar.bz2 to meme_templates.tar.bz2\n"
          ],
          "name": "stdout"
        }
      ]
    },
    {
      "cell_type": "markdown",
      "metadata": {
        "id": "iVIM33iCI0-2"
      },
      "source": [
        "**Instantiating the model:**"
      ]
    },
    {
      "cell_type": "code",
      "metadata": {
        "id": "PcXASArYIsvj"
      },
      "source": [
        "net = wide_resnet101 = models.wide_resnet101_2(pretrained=True)"
      ],
      "execution_count": 14,
      "outputs": []
    },
    {
      "cell_type": "markdown",
      "metadata": {
        "id": "y-WfNvZ64_H7"
      },
      "source": [
        "**Freeze all parameters but the last layer:**"
      ]
    },
    {
      "cell_type": "code",
      "metadata": {
        "id": "CGTyVyQJ5L7i",
        "colab": {
          "base_uri": "https://localhost:8080/"
        },
        "outputId": "9e10c2ab-e992-4550-b199-d64aa1c0a73a"
      },
      "source": [
        "# Freeze all model parameters\n",
        "for param in net.parameters():\n",
        "    param.requires_grad = False\n",
        "\n",
        "net.fc = nn.Linear(2048, num_data)\n",
        "\n",
        "# Find total parameters and trainable parameters\n",
        "total_params = sum(p.numel() for p in net.parameters())\n",
        "print(f'{total_params:,} total parameters.')\n",
        "total_trainable_params = sum(\n",
        "    p.numel() for p in net.parameters() if p.requires_grad)\n",
        "print(f'{total_trainable_params:,} training parameters.')"
      ],
      "execution_count": 16,
      "outputs": [
        {
          "output_type": "stream",
          "text": [
            "126,448,210 total parameters.\n",
            "1,610,514 training parameters.\n"
          ],
          "name": "stdout"
        }
      ]
    },
    {
      "cell_type": "markdown",
      "metadata": {
        "id": "Sda-76CdJnlX"
      },
      "source": [
        "**Defining the optimizer:** we set the optimization procedure as stochastic gradient descent with various parameters. We also define our loss function."
      ]
    },
    {
      "cell_type": "code",
      "metadata": {
        "id": "JNOhErrSJj3B"
      },
      "source": [
        "if gpu_boole:\n",
        "  net = net.cuda()\n",
        "  \n",
        "optimizer = torch.optim.SGD(net.parameters(), lr = 0.1, momentum = 0.9)\n",
        "loss_metric = nn.CrossEntropyLoss()"
      ],
      "execution_count": 17,
      "outputs": []
    },
    {
      "cell_type": "markdown",
      "metadata": {
        "id": "uAd34-RlM_a4"
      },
      "source": [
        "**Defining training and test loss and accuracy functions:** These functions will be useful in our training loop to view are training and test loss/accuracy at each epoch."
      ]
    },
    {
      "cell_type": "code",
      "metadata": {
        "id": "1X7K9TaPNMDe"
      },
      "source": [
        "def eval(verbose = 1, target=''):\n",
        "    correct = 0\n",
        "    total = 0\n",
        "    loss_sum = 0\n",
        "    # which data loader\n",
        "    if target == 'Train':\n",
        "        data_loader = train_loader\n",
        "    if target == 'Valid':\n",
        "        data_loader = valid_loader\n",
        "    if target == 'Test':\n",
        "        data_loader = test_loader\n",
        "\n",
        "    for images, labels in data_loader:\n",
        "        if gpu_boole:\n",
        "            images, labels = images.cuda(), labels.cuda()\n",
        "\n",
        "        outputs = net(images)\n",
        "        _, predicted = torch.max(outputs.data, 1)\n",
        "        total += labels.size(0)\n",
        "        correct += (predicted.float() == labels.float()).sum()\n",
        "\n",
        "        loss_sum += loss_metric(outputs,labels).detach()\n",
        "        \n",
        "    if verbose:\n",
        "        print('%s accuracy: %f %%' % (target, 100.0 * correct.float() / total))\n",
        "        print('%s loss: %f' % (target, loss_sum.cpu().data.numpy().item() / total))\n",
        "\n",
        "    return correct.float() / total, loss_sum.cpu().data.numpy().item() / total"
      ],
      "execution_count": 18,
      "outputs": []
    },
    {
      "cell_type": "markdown",
      "metadata": {
        "id": "99oTqwXDK_a3"
      },
      "source": [
        "**Traning loop:** here, we give the training loop. A number of epochs is set. Loss is recorded and plotted at the end.\n",
        "\n",
        "**IMPORTANT NOTE:** For re-running this code cell, if you encounter nan loss, you will need to reinstantiate your model and optimizer by re-running the \"Instantiating the model:\" and \"Defining the optimizer:\" code cells above."
      ]
    },
    {
      "cell_type": "code",
      "metadata": {
        "id": "fwDUdRlOLUwG",
        "colab": {
          "base_uri": "https://localhost:8080/",
          "height": 1000
        },
        "outputId": "c0839390-a309-4bf1-c5a2-add397e693c2"
      },
      "source": [
        "#re-initializing network weights:\n",
        "def weights_init(m):\n",
        "    if isinstance(m, nn.Conv2d) or isinstance(m, nn.Linear):\n",
        "        torch.nn.init.xavier_uniform_(m.weight.data)\n",
        "\n",
        "net.fc.apply(weights_init)\n",
        "\n",
        "train_loss_epoch_store = []\n",
        "valid_acc_epoch_store = []\n",
        "\n",
        "#number of epochs to train for:\n",
        "epochs = 10\n",
        "\n",
        "print(\"Starting Training\")\n",
        "#training loop:\n",
        "for epoch in range(epochs):\n",
        "    time1 = time.time() #timekeeping\n",
        "\n",
        "    for i, (x,y) in enumerate(train_loader):\n",
        "    \n",
        "        if gpu_boole:\n",
        "            x = x.cuda()\n",
        "            y = y.cuda()\n",
        "\n",
        "        #loss calculation and gradient update:\n",
        "\n",
        "        if i > 0 or epoch > 0:\n",
        "            optimizer.zero_grad()\n",
        "        outputs = net.forward(x)\n",
        "        loss = loss_metric(outputs,y)\n",
        "        loss.backward()\n",
        "                  \n",
        "        ##performing update:\n",
        "        optimizer.step()\n",
        "\n",
        "    print(\"Epoch\",epoch+1,':')\n",
        "    train_acc, train_loss = eval(target='Train')\n",
        "    valid_acc, valid_loss = eval(target ='Valid')\n",
        "\n",
        "    train_loss_epoch_store.append(train_loss)\n",
        "    valid_acc_epoch_store.append(valid_acc)\n",
        "\n",
        "    time2 = time.time() #timekeeping\n",
        "    print('Elapsed time for epoch:',time2 - time1,'s')\n",
        "    print('ETA of completion:',(time2 - time1)*(epochs - epoch - 1)/60,'minutes')\n",
        "    print()\n",
        "\n",
        "## Plotting epoch-wise train loss curve:\n",
        "plt.plot(train_loss_epoch_store, '-o', label = 'train_loss', color = 'blue')\n",
        "plt.xlabel('Epoch Number')\n",
        "plt.ylabel('Sample-wise Train Loss At Last Epoch')\n",
        "plt.legend()\n",
        "plt.show()\n",
        "\n",
        "## Plotting epoch-wise valid accuracy curve:\n",
        "plt.plot(valid_acc_epoch_store, '-o', label = 'valid_accuracy', color = 'blue')\n",
        "plt.xlabel('Epoch Number')\n",
        "plt.ylabel('Sample-wise Validation Accuracy At Last Epoch')\n",
        "plt.legend()\n",
        "plt.show()"
      ],
      "execution_count": 19,
      "outputs": [
        {
          "output_type": "stream",
          "text": [
            "Starting Training\n",
            "Epoch 1 :\n",
            "Train accuracy: 23.913044 %\n",
            "Train loss: 0.092478\n",
            "Valid accuracy: 0.000000 %\n",
            "Valid loss: 0.132963\n",
            "Elapsed time for epoch: 13.555909872055054 s\n",
            "ETA of completion: 2.0333864808082582 minutes\n",
            "\n",
            "Epoch 2 :\n",
            "Train accuracy: 56.340580 %\n",
            "Train loss: 0.067988\n",
            "Valid accuracy: 0.000000 %\n",
            "Valid loss: 0.157838\n",
            "Elapsed time for epoch: 13.09904408454895 s\n",
            "ETA of completion: 1.7465392112731934 minutes\n",
            "\n",
            "Epoch 3 :\n",
            "Train accuracy: 91.485512 %\n",
            "Train loss: 0.041378\n",
            "Valid accuracy: 0.000000 %\n",
            "Valid loss: 0.171209\n",
            "Elapsed time for epoch: 12.87753438949585 s\n",
            "ETA of completion: 1.502379012107849 minutes\n",
            "\n",
            "Epoch 4 :\n",
            "Train accuracy: 98.007248 %\n",
            "Train loss: 0.022123\n",
            "Valid accuracy: 0.000000 %\n",
            "Valid loss: 0.180946\n",
            "Elapsed time for epoch: 12.973809957504272 s\n",
            "ETA of completion: 1.2973809957504272 minutes\n",
            "\n",
            "Epoch 5 :\n",
            "Train accuracy: 99.637680 %\n",
            "Train loss: 0.011070\n",
            "Valid accuracy: 0.000000 %\n",
            "Valid loss: 0.187895\n",
            "Elapsed time for epoch: 12.919178485870361 s\n",
            "ETA of completion: 1.0765982071558635 minutes\n",
            "\n",
            "Epoch 6 :\n",
            "Train accuracy: 99.818840 %\n",
            "Train loss: 0.006004\n",
            "Valid accuracy: 0.000000 %\n",
            "Valid loss: 0.192942\n",
            "Elapsed time for epoch: 12.999612808227539 s\n",
            "ETA of completion: 0.866640853881836 minutes\n",
            "\n",
            "Epoch 7 :\n",
            "Train accuracy: 100.000000 %\n",
            "Train loss: 0.003261\n",
            "Valid accuracy: 0.000000 %\n",
            "Valid loss: 0.194278\n",
            "Elapsed time for epoch: 12.809083223342896 s\n",
            "ETA of completion: 0.6404541611671448 minutes\n",
            "\n",
            "Epoch 8 :\n",
            "Train accuracy: 99.818840 %\n",
            "Train loss: 0.002304\n",
            "Valid accuracy: 0.000000 %\n",
            "Valid loss: 0.196287\n",
            "Elapsed time for epoch: 12.975838422775269 s\n",
            "ETA of completion: 0.4325279474258423 minutes\n",
            "\n",
            "Epoch 9 :\n",
            "Train accuracy: 100.000000 %\n",
            "Train loss: 0.001625\n",
            "Valid accuracy: 0.000000 %\n",
            "Valid loss: 0.195646\n",
            "Elapsed time for epoch: 12.891732454299927 s\n",
            "ETA of completion: 0.21486220757166544 minutes\n",
            "\n",
            "Epoch 10 :\n",
            "Train accuracy: 100.000000 %\n",
            "Train loss: 0.001277\n",
            "Valid accuracy: 0.000000 %\n",
            "Valid loss: 0.195887\n",
            "Elapsed time for epoch: 12.85002875328064 s\n",
            "ETA of completion: 0.0 minutes\n",
            "\n"
          ],
          "name": "stdout"
        },
        {
          "output_type": "display_data",
          "data": {
            "image/png": "[encoded data removed]",
            "text/plain": [
              "<Figure size 432x288 with 1 Axes>"
            ]
          },
          "metadata": {
            "tags": [],
            "needs_background": "light"
          }
        },
        {
          "output_type": "display_data",
          "data": {
            "image/png": "[encoded data removed]",
            "text/plain": [
              "<Figure size 432x288 with 1 Axes>"
            ]
          },
          "metadata": {
            "tags": [],
            "needs_background": "light"
          }
        }
      ]
    },
    {
      "cell_type": "code",
      "metadata": {
        "id": "5jOGeQDcySIH",
        "colab": {
          "base_uri": "https://localhost:8080/"
        },
        "outputId": "d19639f6-e6af-409a-c099-9f04f628ca92"
      },
      "source": [
        "eval(target='Test')"
      ],
      "execution_count": 20,
      "outputs": [
        {
          "output_type": "stream",
          "text": [
            "Test accuracy: 0.000000 %\n",
            "Test loss: 0.193263\n"
          ],
          "name": "stdout"
        },
        {
          "output_type": "execute_result",
          "data": {
            "text/plain": [
              "(tensor(0., device='cuda:0'), 0.19326273600260416)"
            ]
          },
          "metadata": {
            "tags": []
          },
          "execution_count": 20
        }
      ]
    },
    {
      "cell_type": "code",
      "metadata": {
        "id": "Fuf3aIlZVTQO"
      },
      "source": [
        ""
      ],
      "execution_count": null,
      "outputs": []
    }
  ]
}