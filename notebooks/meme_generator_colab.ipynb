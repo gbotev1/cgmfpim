{
  "nbformat": 4,
  "nbformat_minor": 0,
  "metadata": {
    "kernelspec": {
      "display_name": "Python 3",
      "language": "python",
      "name": "python3"
    },
    "language_info": {
      "codemirror_mode": {
        "name": "ipython",
        "version": 3
      },
      "file_extension": ".py",
      "mimetype": "text/x-python",
      "name": "python",
      "nbconvert_exporter": "python",
      "pygments_lexer": "ipython3",
      "version": "3.8.6"
    },
    "colab": {
      "name": "meme-generator-colab.ipynb",
      "provenance": [],
      "collapsed_sections": []
    },
    "accelerator": "GPU"
  },
  "cells": [
    {
      "cell_type": "markdown",
      "metadata": {
        "id": "WlCcYKRA7FQy"
      },
      "source": [
        "# Prerequisites "
      ]
    },
    {
      "cell_type": "code",
      "metadata": {
        "id": "7vDsF30A7QWN",
        "colab": {
          "base_uri": "https://localhost:8080/"
        },
        "outputId": "b1db5c72-6baa-4679-e084-5bb296c3f6cb"
      },
      "source": [
        "!pip install transformers"
      ],
      "execution_count": 1,
      "outputs": [
        {
          "output_type": "stream",
          "text": [
            "Requirement already satisfied: transformers in /usr/local/lib/python3.6/dist-packages (4.0.1)\n",
            "Requirement already satisfied: packaging in /usr/local/lib/python3.6/dist-packages (from transformers) (20.7)\n",
            "Requirement already satisfied: numpy in /usr/local/lib/python3.6/dist-packages (from transformers) (1.18.5)\n",
            "Requirement already satisfied: tqdm>=4.27 in /usr/local/lib/python3.6/dist-packages (from transformers) (4.41.1)\n",
            "Requirement already satisfied: requests in /usr/local/lib/python3.6/dist-packages (from transformers) (2.23.0)\n",
            "Requirement already satisfied: filelock in /usr/local/lib/python3.6/dist-packages (from transformers) (3.0.12)\n",
            "Requirement already satisfied: dataclasses; python_version < \"3.7\" in /usr/local/lib/python3.6/dist-packages (from transformers) (0.8)\n",
            "Requirement already satisfied: regex!=2019.12.17 in /usr/local/lib/python3.6/dist-packages (from transformers) (2019.12.20)\n",
            "Requirement already satisfied: tokenizers==0.9.4 in /usr/local/lib/python3.6/dist-packages (from transformers) (0.9.4)\n",
            "Requirement already satisfied: sacremoses in /usr/local/lib/python3.6/dist-packages (from transformers) (0.0.43)\n",
            "Requirement already satisfied: pyparsing>=2.0.2 in /usr/local/lib/python3.6/dist-packages (from packaging->transformers) (2.4.7)\n",
            "Requirement already satisfied: urllib3!=1.25.0,!=1.25.1,<1.26,>=1.21.1 in /usr/local/lib/python3.6/dist-packages (from requests->transformers) (1.24.3)\n",
            "Requirement already satisfied: certifi>=2017.4.17 in /usr/local/lib/python3.6/dist-packages (from requests->transformers) (2020.12.5)\n",
            "Requirement already satisfied: idna<3,>=2.5 in /usr/local/lib/python3.6/dist-packages (from requests->transformers) (2.10)\n",
            "Requirement already satisfied: chardet<4,>=3.0.2 in /usr/local/lib/python3.6/dist-packages (from requests->transformers) (3.0.4)\n",
            "Requirement already satisfied: joblib in /usr/local/lib/python3.6/dist-packages (from sacremoses->transformers) (0.17.0)\n",
            "Requirement already satisfied: click in /usr/local/lib/python3.6/dist-packages (from sacremoses->transformers) (7.1.2)\n",
            "Requirement already satisfied: six in /usr/local/lib/python3.6/dist-packages (from sacremoses->transformers) (1.15.0)\n"
          ],
          "name": "stdout"
        }
      ]
    },
    {
      "cell_type": "code",
      "metadata": {
        "id": "EpOoVXDB7FQy"
      },
      "source": [
        "from transformers import GPT2TokenizerFast, GPT2LMHeadModel\n",
        "import torch"
      ],
      "execution_count": 2,
      "outputs": []
    },
    {
      "cell_type": "markdown",
      "metadata": {
        "id": "KKAF-q9a7FQy"
      },
      "source": [
        "# Setting Up Model"
      ]
    },
    {
      "cell_type": "code",
      "metadata": {
        "id": "DzbT8_A67FQy"
      },
      "source": [
        "tokenizer = GPT2TokenizerFast.from_pretrained('gpt2')\n",
        "tokenizer.add_special_tokens(\n",
        "        {'pad_token': tokenizer.eos_token, 'sep_token': '<|SEP|>'})\n",
        "model = GPT2LMHeadModel.from_pretrained('gpt2', pad_token_id=tokenizer.eos_token_id, sep_token_id=tokenizer.pad_token_id)"
      ],
      "execution_count": 3,
      "outputs": []
    },
    {
      "cell_type": "markdown",
      "metadata": {
        "id": "2THyOL96tvJQ"
      },
      "source": [
        "# Generating Text"
      ]
    },
    {
      "cell_type": "code",
      "metadata": {
        "id": "Gw5Fh8Ww7FQy"
      },
      "source": [
        "prompts = ['One does not simply', 'Hello, world!']\n",
        "inputs = [tokenizer.encode(prompt, return_tensors='pt', padding=True, truncation=True) for prompt in prompts]"
      ],
      "execution_count": 4,
      "outputs": []
    },
    {
      "cell_type": "code",
      "metadata": {
        "colab": {
          "base_uri": "https://localhost:8080/"
        },
        "id": "PL2_jgPGsVhL",
        "outputId": "d4237b68-1348-40d9-a180-4afc7c3e3cf0"
      },
      "source": [
        "inputs"
      ],
      "execution_count": 5,
      "outputs": [
        {
          "output_type": "execute_result",
          "data": {
            "text/plain": [
              "[tensor([[3198,  857,  407, 2391]]), tensor([[15496,    11,   995,     0]])]"
            ]
          },
          "metadata": {
            "tags": []
          },
          "execution_count": 5
        }
      ]
    },
    {
      "cell_type": "code",
      "metadata": {
        "id": "-YqbSOzl7FQy"
      },
      "source": [
        "outputs = [model.generate(input, max_length=50, do_sample=True, top_p=0.95, top_k=50) for input in inputs]"
      ],
      "execution_count": 6,
      "outputs": []
    },
    {
      "cell_type": "code",
      "metadata": {
        "id": "YhgKB1jJ7FQy"
      },
      "source": [
        "decodes = [tokenizer.decode(output[0], skip_special_tokens=True) for output in outputs]"
      ],
      "execution_count": 7,
      "outputs": []
    },
    {
      "cell_type": "code",
      "metadata": {
        "colab": {
          "base_uri": "https://localhost:8080/"
        },
        "id": "CgnCWOq8thXd",
        "outputId": "454e3a72-7d44-4cf6-82c3-fa1155bc2da2"
      },
      "source": [
        "print(decodes)"
      ],
      "execution_count": 8,
      "outputs": [
        {
          "output_type": "stream",
          "text": [
            "['One does not simply believe they have been \"betrayed.\" They actually want to be taken seriously as being as a part of a great world government and as a force for good.\\n\\nIf you see yourself, you can go into this position', \"Hello, world!\\n\\nWe have an hour to finish, so let's get started!\\n\\nWe got that much right!\\n\\nStep 1: Create an Account\\n\\nStep 2: Create an Account\\n\\nStep 3: Create an\"]\n"
          ],
          "name": "stdout"
        }
      ]
    },
    {
      "cell_type": "code",
      "metadata": {
        "id": "RfNYivsg_k5l"
      },
      "source": [
        ""
      ],
      "execution_count": 8,
      "outputs": []
    }
  ]
}