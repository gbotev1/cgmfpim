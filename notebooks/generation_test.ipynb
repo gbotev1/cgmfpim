{
  "nbformat": 4,
  "nbformat_minor": 0,
  "metadata": {
    "colab": {
      "name": "generation_test.ipynb",
      "provenance": [],
      "collapsed_sections": [
        "QiSx9jvyvGyx"
      ]
    },
    "kernelspec": {
      "name": "python3",
      "display_name": "Python 3"
    }
  },
  "cells": [
    {
      "cell_type": "markdown",
      "metadata": {
        "id": "lVfvduPDvEvh"
      },
      "source": [
        "# Generating Memes"
      ]
    },
    {
      "cell_type": "markdown",
      "metadata": {
        "id": "QiSx9jvyvGyx"
      },
      "source": [
        "## Installing requirements"
      ]
    },
    {
      "cell_type": "code",
      "metadata": {
        "id": "jms0THqsU6kA"
      },
      "source": [
        "!pip3 install -r requirements.txt"
      ],
      "execution_count": null,
      "outputs": []
    },
    {
      "cell_type": "code",
      "metadata": {
        "id": "-izgD34FiTzS"
      },
      "source": [
        "!sudo apt-get install -y lzip"
      ],
      "execution_count": null,
      "outputs": []
    },
    {
      "cell_type": "code",
      "metadata": {
        "id": "NLBTL9O3iaue"
      },
      "source": [
        "!lzip -d /content/epoch=0-step=2535.ckpt.tar.lz"
      ],
      "execution_count": null,
      "outputs": []
    },
    {
      "cell_type": "code",
      "metadata": {
        "id": "VWQPzuszicob"
      },
      "source": [
        "!tar -xvf /content/epoch=0-step=2535.ckpt.tar"
      ],
      "execution_count": null,
      "outputs": []
    },
    {
      "cell_type": "code",
      "metadata": {
        "id": "SXXeRbE6jee1"
      },
      "source": [
        "!git clone https://github.com/gbotev1/cgmfpim.git"
      ],
      "execution_count": null,
      "outputs": []
    },
    {
      "cell_type": "markdown",
      "metadata": {
        "id": "TA40Akz5vBeS"
      },
      "source": [
        "## Generate memes on old dataset with small model"
      ]
    },
    {
      "cell_type": "code",
      "metadata": {
        "id": "yc-WINGpmgIU"
      },
      "source": [
        "!mkdir old_commit"
      ],
      "execution_count": null,
      "outputs": []
    },
    {
      "cell_type": "code",
      "metadata": {
        "id": "YKQ-wzBYupCW"
      },
      "source": [
        "!rm -rf old_commit/cgmfpim/"
      ],
      "execution_count": null,
      "outputs": []
    },
    {
      "cell_type": "code",
      "metadata": {
        "id": "UeD7AXyRpX8u"
      },
      "source": [
        "!cd old_commit && git clone https://github.com/gbotev1/cgmfpim.git && cd cgmfpim/ && git checkout 5844b72dbbec087a304cedc718beeecdf6d3015b"
      ],
      "execution_count": null,
      "outputs": []
    },
    {
      "cell_type": "code",
      "metadata": {
        "colab": {
          "base_uri": "https://localhost:8080/"
        },
        "id": "f9MqJ0hBjAHz",
        "outputId": "14235d94-1cc7-4030-be7a-93e77ac80053"
      },
      "source": [
        "!python3 /content/old_commit/cgmfpim/generate.py /content/epoch=0-step=2535.ckpt -g gpt2 -n 10 --seed_everything"
      ],
      "execution_count": 31,
      "outputs": [
        {
          "output_type": "stream",
          "text": [
            "2020-12-17 18:05:30.350667: I tensorflow/stream_executor/platform/default/dso_loader.cc:48] Successfully opened dynamic library libcudart.so.10.1\n",
            "Meme:\n",
            "\n",
            "\n",
            "oh, so you like to walk around your home without your umbrella? tell me more. why? oh, what? why do you care what it looks like, right?\n",
            "\n",
            "Tags: creepy condescending wonka\n",
            "Meme:\n",
            "\n",
            "\n",
            "i don't always read...\n",
            "but when i do, they're always full of bad memes and bad jokes\n",
            "\n",
            "Tags: the most interesting man in the world\n",
            "Meme:\n",
            "\n",
            "\n",
            "how was your last day of school? no, just the last two of the month\n",
            "\n",
            "Tags: the rock driving\n",
            "Meme:\n",
            "\n",
            "\n",
            "oh, so you thought your meme wouldn't get 1 upvote? congratulations, it worked! now we can actually vote on the front page!\n",
            "\n",
            "Tags: evil toddler\n",
            "Meme:\n",
            "\n",
            "\n",
            "a year of christmas? a year of christmas\n",
            "\n",
            "Tags: drake hotline bling\n",
            "Meme:\n",
            "\n",
            "\n",
            "hey, that's the guy who\n",
            "made this meme\n",
            "\n",
            "Tags: the most interesting man in the world\n",
            "Meme:\n",
            "\n",
            "\n",
            "if you could have more money\n",
            "in the bank\n",
            "\n",
            "Tags: grumpy cat,bank,credit card\n",
            "Meme:\n",
            "\n",
            "\n",
            "i saw a baby on my couch\n",
            "but nobody could figure it out\n",
            "\n",
            "Tags: grumpy cat\n",
            "Meme:\n",
            "\n",
            "\n",
            "we need ideas for new games! new characters\n",
            "new graphics\n",
            "more time in the real world. what are our plans?\n",
            "\n",
            "Tags: boardroom meeting suggestion\n",
            "Meme:\n",
            "\n",
            "\n",
            "the day we're not here\n",
            "me:\n",
            "\n",
            "Tags: waiting skeleton\n"
          ],
          "name": "stdout"
        }
      ]
    }
  ]
}