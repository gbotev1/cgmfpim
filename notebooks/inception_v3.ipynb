{
  "nbformat": 4,
  "nbformat_minor": 0,
  "metadata": {
    "colab": {
      "name": "inception_v3.ipynb",
      "provenance": [],
      "collapsed_sections": [],
      "toc_visible": true,
      "machine_shape": "hm"
    },
    "kernelspec": {
      "name": "python3",
      "display_name": "Python 3"
    },
    "accelerator": "GPU"
  },
  "cells": [
    {
      "cell_type": "code",
      "metadata": {
        "id": "8ocl9Mfl8LH6"
      },
      "source": [
        "## Some general imports we may need:\n",
        "import numpy as np\n",
        "import torch\n",
        "import torch.nn as nn\n",
        "import torchvision\n",
        "import torchvision.datasets as dataset\n",
        "import torchvision.transforms as transforms\n",
        "import matplotlib.pyplot as plt\n",
        "import time\n",
        "import struct\n",
        "import os\n",
        "import torchvision.models as models \n",
        "\n",
        "from google.colab import files\n",
        "from torch.utils.data.sampler import SubsetRandomSampler"
      ],
      "execution_count": 1,
      "outputs": []
    },
    {
      "cell_type": "code",
      "metadata": {
        "id": "rFFtp9BmLxo9"
      },
      "source": [
        "## Check GPU availability:\n",
        "gpu_boole = torch.cuda.is_available()"
      ],
      "execution_count": 2,
      "outputs": []
    },
    {
      "cell_type": "markdown",
      "metadata": {
        "id": "G5u9uAJZKVNB"
      },
      "source": [
        "**Defining dataset loaders:** here, we define the dataset loaders with a specific batch size of 128 and basic tensor transformation / preprocessing:\n",
        "\n"
      ]
    },
    {
      "cell_type": "code",
      "metadata": {
        "id": "cHSq5YEyK452"
      },
      "source": [
        "## Upload meme templates\n",
        "# files.upload() # meme_templates.tar.bz2\n",
        "# !tar -xf meme_templates.tar.bz2\n",
        "data_dir = './meme_templates'\n",
        "\n",
        "# make subfolder with class labels\n",
        "data = os.listdir(data_dir)\n",
        "num_data = len(data)  # 786 meme templates\n",
        "for i in range(num_data):\n",
        "    if not os.path.exists(data_dir+'/'+str(i)):\n",
        "        os.mkdir(data_dir+'/'+str(i))\n",
        "        os.rename(data_dir+'/'+data[i], data_dir+'/'+str(i)+'/'+data[i])\n",
        "\n",
        "transform = transforms.Compose([transforms.Resize((299, 299)), transforms.ToTensor(), ])\n",
        "data = dataset.ImageFolder(data_dir, transform=transform)\n",
        "\n",
        "# shuffle train/valid/test\n",
        "indices = list(range(num_data))\n",
        "np.random.shuffle(indices)\n",
        "\n",
        "# split into 0.7 test, 0.15 valid, 0.15 test\n",
        "valid_split = int(np.floor(0.15 * num_data))\n",
        "test_split = int(np.floor(0.15 * num_data))\n",
        "train_idx, valid_idx, test_idx = indices[valid_split+test_split:], \\\n",
        "    indices[test_split:valid_split+test_split], \\\n",
        "    indices[:test_split]\n",
        "train_sampler = SubsetRandomSampler(train_idx)\n",
        "valid_sampler = SubsetRandomSampler(valid_idx)\n",
        "test_sampler = SubsetRandomSampler(test_idx)\n",
        "\n",
        "# load\n",
        "train_loader = torch.utils.data.DataLoader(data, sampler=train_sampler, batch_size=64)\n",
        "valid_loader = torch.utils.data.DataLoader(data, sampler=valid_sampler, batch_size=64)\n",
        "test_loader = torch.utils.data.DataLoader(data, sampler=test_sampler, batch_size=64)"
      ],
      "execution_count": 12,
      "outputs": []
    },
    {
      "cell_type": "markdown",
      "metadata": {
        "id": "iVIM33iCI0-2"
      },
      "source": [
        "**Instantiating the model:**"
      ]
    },
    {
      "cell_type": "code",
      "metadata": {
        "id": "PcXASArYIsvj"
      },
      "source": [
        "net = inception = models.inception_v3(pretrained=True)"
      ],
      "execution_count": 13,
      "outputs": []
    },
    {
      "cell_type": "markdown",
      "metadata": {
        "id": "y-WfNvZ64_H7"
      },
      "source": [
        "**Freeze all parameters but the last layer:**"
      ]
    },
    {
      "cell_type": "code",
      "metadata": {
        "id": "CGTyVyQJ5L7i",
        "colab": {
          "base_uri": "https://localhost:8080/"
        },
        "outputId": "b5126d51-148a-4352-81cd-1f0db291cbe7"
      },
      "source": [
        "# Freeze all model parameters\n",
        "for param in net.parameters():\n",
        "    param.requires_grad = False\n",
        "\n",
        "net.AuxLogits.fc = nn.Linear(768, num_data)\n",
        "net.fc = nn.Linear(2048, num_data)\n",
        "\n",
        "# Find total parameters and trainable parameters\n",
        "total_params = sum(p.numel() for p in net.parameters())\n",
        "print(f'{total_params:,} total parameters.')\n",
        "total_trainable_params = sum(\n",
        "    p.numel() for p in net.parameters() if p.requires_grad)\n",
        "print(f'{total_trainable_params:,} training parameters.')"
      ],
      "execution_count": 14,
      "outputs": [
        {
          "output_type": "stream",
          "text": [
            "26,558,212 total parameters.\n",
            "2,214,948 training parameters.\n"
          ],
          "name": "stdout"
        }
      ]
    },
    {
      "cell_type": "markdown",
      "metadata": {
        "id": "Sda-76CdJnlX"
      },
      "source": [
        "**Defining the optimizer:** we set the optimization procedure as stochastic gradient descent with various parameters. We also define our loss function."
      ]
    },
    {
      "cell_type": "code",
      "metadata": {
        "id": "JNOhErrSJj3B"
      },
      "source": [
        "if gpu_boole:\n",
        "  net = net.cuda()\n",
        "  \n",
        "optimizer = torch.optim.SGD(net.parameters(), lr = 0.1, momentum = 0.9)\n",
        "loss_metric = nn.CrossEntropyLoss()"
      ],
      "execution_count": 15,
      "outputs": []
    },
    {
      "cell_type": "markdown",
      "metadata": {
        "id": "uAd34-RlM_a4"
      },
      "source": [
        "**Defining training and test loss and accuracy functions:** These functions will be useful in our training loop to view are training and test loss/accuracy at each epoch."
      ]
    },
    {
      "cell_type": "code",
      "metadata": {
        "id": "1X7K9TaPNMDe"
      },
      "source": [
        "def eval(verbose = 1, target=''):\n",
        "    correct = 0\n",
        "    total = 0\n",
        "    loss_sum = 0\n",
        "    # which data loader\n",
        "    if target == 'Train':\n",
        "        data_loader = train_loader\n",
        "    if target == 'Valid':\n",
        "        data_loader = valid_loader\n",
        "    if target == 'Test':\n",
        "        data_loader = test_loader\n",
        "\n",
        "    for images, labels in data_loader:\n",
        "        if gpu_boole:\n",
        "            images, labels = images.cuda(), labels.cuda()\n",
        "\n",
        "        outputs, aux = net(images)\n",
        "        _, predicted = torch.max(outputs.data, 1)\n",
        "        total += labels.size(0)\n",
        "        correct += (predicted.float() == labels.float()).sum()\n",
        "\n",
        "        loss_sum += loss_metric(outputs,labels).detach()\n",
        "        \n",
        "    if verbose:\n",
        "        print('%s accuracy: %f %%' % (target, 100.0 * correct.float() / total))\n",
        "        print('%s loss: %f' % (target, loss_sum.cpu().data.numpy().item() / total))\n",
        "\n",
        "    return correct.float() / total, loss_sum.cpu().data.numpy().item() / total"
      ],
      "execution_count": 16,
      "outputs": []
    },
    {
      "cell_type": "markdown",
      "metadata": {
        "id": "99oTqwXDK_a3"
      },
      "source": [
        "**Traning loop:** here, we give the training loop. A number of epochs is set. Loss is recorded and plotted at the end.\n",
        "\n",
        "**IMPORTANT NOTE:** For re-running this code cell, if you encounter nan loss, you will need to reinstantiate your model and optimizer by re-running the \"Instantiating the model:\" and \"Defining the optimizer:\" code cells above."
      ]
    },
    {
      "cell_type": "code",
      "metadata": {
        "id": "fwDUdRlOLUwG",
        "colab": {
          "base_uri": "https://localhost:8080/",
          "height": 1000
        },
        "outputId": "49827b06-4c7b-40d0-846b-171f94e91442"
      },
      "source": [
        "#re-initializing network weights:\n",
        "def weights_init(m):\n",
        "    if isinstance(m, nn.Conv2d) or isinstance(m, nn.Linear):\n",
        "        torch.nn.init.xavier_uniform_(m.weight.data)\n",
        "\n",
        "net.AuxLogits.fc.apply(weights_init)\n",
        "net.fc.apply(weights_init)\n",
        "\n",
        "train_loss_epoch_store = []\n",
        "valid_acc_epoch_store = []\n",
        "\n",
        "#number of epochs to train for:\n",
        "epochs = 10\n",
        "\n",
        "print(\"Starting Training\")\n",
        "#training loop:\n",
        "for epoch in range(epochs):\n",
        "    time1 = time.time() #timekeeping\n",
        "\n",
        "    for i, (x,y) in enumerate(train_loader):\n",
        "    \n",
        "        if gpu_boole:\n",
        "            x = x.cuda()\n",
        "            y = y.cuda()\n",
        "\n",
        "        #loss calculation and gradient update:\n",
        "\n",
        "        if i > 0 or epoch > 0:\n",
        "            optimizer.zero_grad()\n",
        "        outputs, aux = net.forward(x)\n",
        "        loss = loss_metric(outputs,y)\n",
        "        loss.backward()\n",
        "                  \n",
        "        ##performing update:\n",
        "        optimizer.step()\n",
        "\n",
        "    print(\"Epoch\",epoch+1,':')\n",
        "    train_acc, train_loss = eval(target='Train')\n",
        "    valid_acc, valid_loss = eval(target ='Valid')\n",
        "\n",
        "    train_loss_epoch_store.append(train_loss)\n",
        "    valid_acc_epoch_store.append(valid_acc)\n",
        "\n",
        "    time2 = time.time() #timekeeping\n",
        "    print('Elapsed time for epoch:',time2 - time1,'s')\n",
        "    print('ETA of completion:',(time2 - time1)*(epochs - epoch - 1)/60,'minutes')\n",
        "    print()\n",
        "\n",
        "## Plotting epoch-wise train loss curve:\n",
        "plt.plot(train_loss_epoch_store, '-o', label = 'train_loss', color = 'blue')\n",
        "plt.xlabel('Epoch Number')\n",
        "plt.ylabel('Sample-wise Train Loss At Last Epoch')\n",
        "plt.legend()\n",
        "plt.show()\n",
        "\n",
        "## Plotting epoch-wise valid accuracy curve:\n",
        "plt.plot(valid_acc_epoch_store, '-o', label = 'valid_accuracy', color = 'blue')\n",
        "plt.xlabel('Epoch Number')\n",
        "plt.ylabel('Sample-wise Validation Accuracy At Last Epoch')\n",
        "plt.legend()\n",
        "plt.show()"
      ],
      "execution_count": 18,
      "outputs": [
        {
          "output_type": "stream",
          "text": [
            "Starting Training\n",
            "Epoch 1 :\n",
            "Train accuracy: 14.492754 %\n",
            "Train loss: 0.093131\n",
            "Valid accuracy: 0.000000 %\n",
            "Valid loss: 0.140195\n",
            "Elapsed time for epoch: 12.315232515335083 s\n",
            "ETA of completion: 1.8472848773002624 minutes\n",
            "\n",
            "Epoch 2 :\n",
            "Train accuracy: 51.630436 %\n",
            "Train loss: 0.063759\n",
            "Valid accuracy: 0.000000 %\n",
            "Valid loss: 0.155358\n",
            "Elapsed time for epoch: 12.260759830474854 s\n",
            "ETA of completion: 1.634767977396647 minutes\n",
            "\n",
            "Epoch 3 :\n",
            "Train accuracy: 89.673912 %\n",
            "Train loss: 0.037696\n",
            "Valid accuracy: 0.000000 %\n",
            "Valid loss: 0.165668\n",
            "Elapsed time for epoch: 12.27251648902893 s\n",
            "ETA of completion: 1.4317935903867085 minutes\n",
            "\n",
            "Epoch 4 :\n",
            "Train accuracy: 96.739136 %\n",
            "Train loss: 0.020496\n",
            "Valid accuracy: 0.000000 %\n",
            "Valid loss: 0.173087\n",
            "Elapsed time for epoch: 12.310566663742065 s\n",
            "ETA of completion: 1.2310566663742066 minutes\n",
            "\n",
            "Epoch 5 :\n",
            "Train accuracy: 98.731888 %\n",
            "Train loss: 0.009893\n",
            "Valid accuracy: 0.000000 %\n",
            "Valid loss: 0.178339\n",
            "Elapsed time for epoch: 12.204598188400269 s\n",
            "ETA of completion: 1.0170498490333557 minutes\n",
            "\n",
            "Epoch 6 :\n",
            "Train accuracy: 99.637680 %\n",
            "Train loss: 0.005720\n",
            "Valid accuracy: 0.000000 %\n",
            "Valid loss: 0.182435\n",
            "Elapsed time for epoch: 12.295740604400635 s\n",
            "ETA of completion: 0.8197160402933756 minutes\n",
            "\n",
            "Epoch 7 :\n",
            "Train accuracy: 99.818840 %\n",
            "Train loss: 0.003556\n",
            "Valid accuracy: 0.000000 %\n",
            "Valid loss: 0.184755\n",
            "Elapsed time for epoch: 12.255335330963135 s\n",
            "ETA of completion: 0.6127667665481568 minutes\n",
            "\n",
            "Epoch 8 :\n",
            "Train accuracy: 99.818840 %\n",
            "Train loss: 0.002623\n",
            "Valid accuracy: 0.000000 %\n",
            "Valid loss: 0.186669\n",
            "Elapsed time for epoch: 12.292020320892334 s\n",
            "ETA of completion: 0.40973401069641113 minutes\n",
            "\n",
            "Epoch 9 :\n",
            "Train accuracy: 100.000000 %\n",
            "Train loss: 0.001934\n",
            "Valid accuracy: 0.000000 %\n",
            "Valid loss: 0.187947\n",
            "Elapsed time for epoch: 12.274404525756836 s\n",
            "ETA of completion: 0.20457340876261393 minutes\n",
            "\n",
            "Epoch 10 :\n",
            "Train accuracy: 100.000000 %\n",
            "Train loss: 0.001691\n",
            "Valid accuracy: 0.000000 %\n",
            "Valid loss: 0.187877\n",
            "Elapsed time for epoch: 12.349171876907349 s\n",
            "ETA of completion: 0.0 minutes\n",
            "\n"
          ],
          "name": "stdout"
        },
        {
          "output_type": "display_data",
          "data": {
            "image/png": "[encoded data removed]",
            "text/plain": [
              "<Figure size 432x288 with 1 Axes>"
            ]
          },
          "metadata": {
            "tags": [],
            "needs_background": "light"
          }
        },
        {
          "output_type": "display_data",
          "data": {
            "image/png": "[encoded data removed]",
            "text/plain": [
              "<Figure size 432x288 with 1 Axes>"
            ]
          },
          "metadata": {
            "tags": [],
            "needs_background": "light"
          }
        }
      ]
    },
    {
      "cell_type": "code",
      "metadata": {
        "id": "5jOGeQDcySIH",
        "colab": {
          "base_uri": "https://localhost:8080/"
        },
        "outputId": "1771af1c-2b74-424c-ca3d-829dd130c7be"
      },
      "source": [
        "eval(target='Test')"
      ],
      "execution_count": 19,
      "outputs": [
        {
          "output_type": "stream",
          "text": [
            "Test accuracy: 0.000000 %\n",
            "Test loss: 0.188644\n"
          ],
          "name": "stdout"
        },
        {
          "output_type": "execute_result",
          "data": {
            "text/plain": [
              "(tensor(0., device='cuda:0'), 0.18864408313718617)"
            ]
          },
          "metadata": {
            "tags": []
          },
          "execution_count": 19
        }
      ]
    },
    {
      "cell_type": "code",
      "metadata": {
        "id": "Fuf3aIlZVTQO"
      },
      "source": [
        ""
      ],
      "execution_count": null,
      "outputs": []
    }
  ]
}